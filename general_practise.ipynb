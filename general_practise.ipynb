{
  "nbformat": 4,
  "nbformat_minor": 0,
  "metadata": {
    "colab": {
      "provenance": [],
      "include_colab_link": true
    },
    "kernelspec": {
      "name": "python3",
      "display_name": "Python 3"
    },
    "language_info": {
      "name": "python"
    }
  },
  "cells": [
    {
      "cell_type": "markdown",
      "metadata": {
        "id": "view-in-github",
        "colab_type": "text"
      },
      "source": [
        "<a href=\"https://colab.research.google.com/github/minonza/frequent-code/blob/main/general_practise.ipynb\" target=\"_parent\"><img src=\"https://colab.research.google.com/assets/colab-badge.svg\" alt=\"Open In Colab\"/></a>"
      ]
    },
    {
      "cell_type": "code",
      "execution_count": null,
      "metadata": {
        "colab": {
          "base_uri": "https://localhost:8080/"
        },
        "id": "Dt9BcUdvigzG",
        "outputId": "95fe7f21-67b7-45db-8254-47d71617be41"
      },
      "outputs": [
        {
          "output_type": "stream",
          "name": "stdout",
          "text": [
            "120\n"
          ]
        }
      ],
      "source": [
        "#python program to multiply all elements in list\n",
        "list1=[1,2,3,4,5]\n",
        "tot=1\n",
        "# mul= [i*i+1 for i in list1]\n",
        "# print(mul)\n",
        "for i in list1:\n",
        "  tot = tot*i\n",
        "  \n",
        "print(tot)  \n"
      ]
    },
    {
      "cell_type": "code",
      "source": [
        "max = list1[0]\n",
        "for i in list1:\n",
        "  if i<max:\n",
        "    max = list1[i]\n",
        "print(max)    \n",
        "\n",
        "\n",
        "  "
      ],
      "metadata": {
        "colab": {
          "base_uri": "https://localhost:8080/"
        },
        "id": "qR52Tlz_jVs4",
        "outputId": "f20840b1-2ccc-41a0-f87d-bdebc69c8024"
      },
      "execution_count": null,
      "outputs": [
        {
          "output_type": "stream",
          "name": "stdout",
          "text": [
            "1\n"
          ]
        }
      ]
    },
    {
      "cell_type": "code",
      "source": [
        "def count_of_words(words):\n",
        "  cnt = 0\n",
        "  for word in words:\n",
        "    if len(word)>1 and word[0]==word[-1]:\n",
        "      cnt= cnt +1\n",
        "  return cnt      \n",
        "print(count_of_words(['abc','khutu','awe','abc']))  "
      ],
      "metadata": {
        "colab": {
          "base_uri": "https://localhost:8080/"
        },
        "id": "isClAFcdnZdo",
        "outputId": "7368d2ea-eca3-41d3-bd22-9ff2931ae27c"
      },
      "execution_count": null,
      "outputs": [
        {
          "output_type": "stream",
          "name": "stdout",
          "text": [
            "0\n"
          ]
        }
      ]
    },
    {
      "cell_type": "code",
      "source": [
        "from ast import Or\n",
        "# remove duplicates\n",
        "list2=[11,22,3,3,3,5,5,5,7,7,7,7]\n",
        "l1=list(set(list2))\n",
        "print(l1)\n",
        "\n"
      ],
      "metadata": {
        "colab": {
          "base_uri": "https://localhost:8080/"
        },
        "id": "hhEwG4aZrCuF",
        "outputId": "0693b7ba-52a9-471f-a098-b7d2fa9e271c"
      },
      "execution_count": null,
      "outputs": [
        {
          "output_type": "stream",
          "name": "stdout",
          "text": [
            "[3, 5, 7, 11, 22]\n"
          ]
        }
      ]
    },
    {
      "cell_type": "code",
      "source": [
        "def check(ele,ment):  \n",
        "  for i in ele:\n",
        "    for j in ment:\n",
        "      if i == j:\n",
        "        return True\n",
        "check(list1,list2)"
      ],
      "metadata": {
        "colab": {
          "base_uri": "https://localhost:8080/"
        },
        "id": "pCv_nzR5w5UE",
        "outputId": "e2319b69-22be-4ccb-a13a-59b76eb7b942"
      },
      "execution_count": null,
      "outputs": [
        {
          "output_type": "execute_result",
          "data": {
            "text/plain": [
              "True"
            ]
          },
          "metadata": {},
          "execution_count": 5
        }
      ]
    },
    {
      "cell_type": "code",
      "source": [
        "list3=['green','blue','yellow','brown','pink']\n",
        "del list3[0]\n",
        "del list3[2]\n",
        "\n",
        "del list3[1]\n",
        "\n",
        "print(list3)"
      ],
      "metadata": {
        "colab": {
          "base_uri": "https://localhost:8080/"
        },
        "id": "rQOjhO4M043N",
        "outputId": "892ad550-eb7a-4a02-a0d1-660c5b61f7e4"
      },
      "execution_count": null,
      "outputs": [
        {
          "output_type": "stream",
          "name": "stdout",
          "text": [
            "['blue', 'pink']\n"
          ]
        }
      ]
    },
    {
      "cell_type": "code",
      "source": [
        "def remove_even(l):\n",
        "  l2=[]\n",
        "  for i in l:\n",
        "    if i%2==0:\n",
        "      l2.append(i)\n",
        "  print(l2)    \n",
        "  return l2    \n",
        "result = remove_even(list1)  "
      ],
      "metadata": {
        "colab": {
          "base_uri": "https://localhost:8080/"
        },
        "id": "EfywzZ--LEkA",
        "outputId": "b490137a-5fff-4a9f-c22a-dd0ab8c0d14c"
      },
      "execution_count": null,
      "outputs": [
        {
          "output_type": "stream",
          "name": "stdout",
          "text": [
            "[2, 4]\n"
          ]
        }
      ]
    },
    {
      "cell_type": "code",
      "source": [
        "ans=''.join(list3)\n",
        "ans"
      ],
      "metadata": {
        "id": "X1FU9Z4PMqqb",
        "colab": {
          "base_uri": "https://localhost:8080/",
          "height": 36
        },
        "outputId": "778f8bf7-fdfb-4907-dd5d-0a503f0c6fb8"
      },
      "execution_count": null,
      "outputs": [
        {
          "output_type": "execute_result",
          "data": {
            "text/plain": [
              "'bluepink'"
            ],
            "application/vnd.google.colaboratory.intrinsic+json": {
              "type": "string"
            }
          },
          "metadata": {},
          "execution_count": 8
        }
      ]
    },
    {
      "cell_type": "code",
      "source": [
        "my_list = [1,2,3]\n",
        "new_list = []\n",
        "\n",
        "while my_list:\n",
        "    min = my_list[0]  \n",
        "    for x in my_list: \n",
        "        if x < min:\n",
        "            min = x\n",
        "    new_list.append(min)\n",
        "    my_list.remove(min)    \n",
        "\n",
        "print(new_list[-2])\n",
        "\n",
        "# smResult = [2]\n",
        "\n",
        "# smResult[0] = my_list[0]\n",
        "# smResult[1] = my_list[1]\n",
        "\n",
        "# def swap():\n",
        "#   if smResult[0] > smResult[1]:\n",
        "#       temp = smResult[0]\n",
        "#       smResult[0] = smResult[1]\n",
        "#       smResult[1] = temp\n",
        "\n",
        "# for num in my_list:\n",
        "\n",
        "#   if num < smResult[1]:\n",
        "#     smResult[1] = num\n",
        "#     swap()\n",
        "\n",
        "\n",
        "# print(smResult)\n"
      ],
      "metadata": {
        "id": "cz6DAiNZRHbF",
        "colab": {
          "base_uri": "https://localhost:8080/"
        },
        "outputId": "6d0f7431-98a2-4a8c-929b-e08324e2f56d"
      },
      "execution_count": null,
      "outputs": [
        {
          "output_type": "stream",
          "name": "stdout",
          "text": [
            "2\n"
          ]
        }
      ]
    },
    {
      "cell_type": "code",
      "source": [
        "#frequency of elements in list\n",
        "list4=[6, 45, 45,45,45, 21, 17, 45,  91, 7, 7, 7]\n",
        "temp=[]\n",
        "count=0\n",
        "for i in list4:\n",
        "  if i in temp:\n",
        "    count = count+1\n",
        "    print(i)\n",
        "    print(count)\n",
        "  \n",
        "  else:\n",
        "    temp.append(i)\n",
        "    count=1\n"
      ],
      "metadata": {
        "colab": {
          "base_uri": "https://localhost:8080/"
        },
        "id": "eJ0s1x5X6Jxa",
        "outputId": "b284a180-8fec-4312-9068-a354385bc5a8"
      },
      "execution_count": null,
      "outputs": [
        {
          "output_type": "stream",
          "name": "stdout",
          "text": [
            "45\n",
            "2\n",
            "45\n",
            "3\n",
            "45\n",
            "4\n",
            "45\n",
            "2\n",
            "7\n",
            "2\n",
            "7\n",
            "3\n"
          ]
        }
      ]
    },
    {
      "cell_type": "code",
      "source": [
        "name = \"Mini Sharma\"\n",
        "print(len(name))"
      ],
      "metadata": {
        "colab": {
          "base_uri": "https://localhost:8080/"
        },
        "id": "GBpQrNasJVMI",
        "outputId": "50034d9c-0f6e-455e-c62c-3d4272d807b0"
      },
      "execution_count": null,
      "outputs": [
        {
          "output_type": "stream",
          "name": "stdout",
          "text": [
            "11\n"
          ]
        }
      ]
    },
    {
      "cell_type": "code",
      "source": [
        "def char_frequency(str1):\n",
        "  dict={}\n",
        "  for i in str1:\n",
        "    keys=dict.keys\n",
        "    if i in keys:\n",
        "      dict[i] += 1\n",
        "    else:\n",
        "      dict[i] = 1  \n",
        "\n"
      ],
      "metadata": {
        "id": "CocNyNuZnBUY"
      },
      "execution_count": null,
      "outputs": []
    },
    {
      "cell_type": "code",
      "source": [
        "listArray=[6, 45, 45,45,45, 21, 17, 45,  91, 7, 7, 7]\n",
        "dictData = {}\n",
        "for i in listArray:\n",
        "  if i in dictData: \n",
        "    dictData[i] += 1\n",
        "  else:\n",
        "    dictData[i] = 1\n",
        "\n",
        "print(dictData)\n",
        "\n",
        "  \n",
        "\n",
        "\n",
        "\n",
        "\n"
      ],
      "metadata": {
        "colab": {
          "base_uri": "https://localhost:8080/"
        },
        "id": "ZhsPzxjep370",
        "outputId": "f718b548-6b5f-4a8e-c9d0-706e9173871b"
      },
      "execution_count": null,
      "outputs": [
        {
          "output_type": "stream",
          "name": "stdout",
          "text": [
            "{6: 1, 45: 5, 21: 1, 17: 1, 91: 1, 7: 3}\n"
          ]
        }
      ]
    },
    {
      "cell_type": "code",
      "source": [
        "# create a list with repeating elements\n",
        "lst = [1, 1, 2, 3, 3, 3, 4, 4, 4, 4]\n",
        "\n",
        "# create an empty dictionary\n",
        "counts = {}\n",
        "\n",
        "# iterate through the list and count the number of occurrences of each element\n",
        "for element in lst:\n",
        "    if element in counts:\n",
        "        counts[element] += 1\n",
        "    else:\n",
        "        counts[element] = 1\n",
        "\n",
        "# print the counts\n",
        "print(counts)\n"
      ],
      "metadata": {
        "colab": {
          "base_uri": "https://localhost:8080/"
        },
        "id": "8Lxem6_zxB4l",
        "outputId": "86528dae-8d6c-47ca-db80-6a1a513da29d"
      },
      "execution_count": null,
      "outputs": [
        {
          "output_type": "stream",
          "name": "stdout",
          "text": [
            "{1: 2, 2: 1, 3: 3, 4: 4}\n"
          ]
        }
      ]
    },
    {
      "cell_type": "code",
      "source": [
        "def longest_word(words):\n",
        "    # Initialize a variable to store the maximum length\n",
        "    max_length = 0\n",
        "\n",
        "    # Iterate through each word in the list\n",
        "    for word in words:\n",
        "        # Update the maximum length if necessary\n",
        "        if len(word) > max_length:\n",
        "            max_length = len(word)\n",
        "\n",
        "    # Return the maximum length\n",
        "    return max_length\n",
        "\n",
        "# Test the function\n",
        "words = ['cat', 'window', 'defenestrate']\n",
        "print(longest_word(words))  # Output: 12"
      ],
      "metadata": {
        "colab": {
          "base_uri": "https://localhost:8080/"
        },
        "id": "-Oerk3MkxCgL",
        "outputId": "7a05b429-9012-4abe-d470-5d9ad9c544ae"
      },
      "execution_count": null,
      "outputs": [
        {
          "output_type": "stream",
          "name": "stdout",
          "text": [
            "12\n"
          ]
        }
      ]
    },
    {
      "cell_type": "code",
      "source": [
        "# Start with a list of numbers\n",
        "numbers = [5, 2, 9, 1, 7, 4, 6, 3, 8]\n",
        "\n",
        "# Use the bubble sort algorithm to sort the list\n",
        "# In each iteration of the loop, we compare adjacent elements\n",
        "# and swap them if they are in the wrong order\n",
        "n = len(numbers)\n",
        "for i in range(n):\n",
        "    for j in range(0, n-i-1):\n",
        "        if numbers[j] > numbers[j+1]:\n",
        "            # Swap elements\n",
        "            numbers[j], numbers[j+1] = numbers[j+1], numbers[j]\n",
        "\n",
        "print(numbers)  # Output: [1, 2, 3, 4, 5, 6, 7, 8, 9]"
      ],
      "metadata": {
        "colab": {
          "base_uri": "https://localhost:8080/"
        },
        "id": "RN-Tm8bSpbsC",
        "outputId": "3389dfe4-26d3-4b16-ecf7-d27621b60671"
      },
      "execution_count": null,
      "outputs": [
        {
          "output_type": "stream",
          "name": "stdout",
          "text": [
            "[1, 2, 3, 4, 5, 6, 7, 8, 9]\n"
          ]
        }
      ]
    },
    {
      "cell_type": "code",
      "source": [
        "d={'mini':1,'mahammad':2,'vivek':3,'mukta':4}\n",
        "type(d)\n",
        "d1={1:2}\n",
        "d.update(d1)\n",
        "print(d)"
      ],
      "metadata": {
        "colab": {
          "base_uri": "https://localhost:8080/"
        },
        "id": "m6r2aN55IYq-",
        "outputId": "4cfc1798-a178-4432-df01-b2939b0cb2a8"
      },
      "execution_count": null,
      "outputs": [
        {
          "output_type": "stream",
          "name": "stdout",
          "text": [
            "{'mini': 1, 'mahammad': 2, 'vivek': 3, 'mukta': 4, 1: 2}\n"
          ]
        }
      ]
    },
    {
      "cell_type": "code",
      "source": [
        "a=7\n",
        "if a in d.values():\n",
        "  print('true')\n"
      ],
      "metadata": {
        "id": "9uGJZpeUIh1q"
      },
      "execution_count": null,
      "outputs": []
    },
    {
      "cell_type": "code",
      "source": [
        "for i,j in d.items():\n",
        "  print(i,j)"
      ],
      "metadata": {
        "colab": {
          "base_uri": "https://localhost:8080/"
        },
        "id": "waNqjljSLydV",
        "outputId": "f70f04d0-9808-4615-b9e8-7fa6f5c05a4b"
      },
      "execution_count": null,
      "outputs": [
        {
          "output_type": "stream",
          "name": "stdout",
          "text": [
            "mini 1\n",
            "mahammad 2\n",
            "vivek 3\n",
            "mukta 4\n",
            "1 2\n"
          ]
        }
      ]
    },
    {
      "cell_type": "code",
      "source": [
        "d2={}\n",
        "n=10\n",
        "for i in range(1,n):\n",
        "  d2[i]=i*i\n",
        "print(d2)  "
      ],
      "metadata": {
        "colab": {
          "base_uri": "https://localhost:8080/"
        },
        "id": "CfdbbyChNGef",
        "outputId": "39e198e9-eaa3-4a6a-88c3-54133a859299"
      },
      "execution_count": null,
      "outputs": [
        {
          "output_type": "stream",
          "name": "stdout",
          "text": [
            "{1: 1, 2: 4, 3: 9, 4: 16, 5: 25, 6: 36, 7: 49, 8: 64, 9: 81}\n"
          ]
        }
      ]
    },
    {
      "cell_type": "code",
      "source": [
        "#sum of all items in dictionary\n",
        "print(sum(d2.values()))\n",
        "print(sum(d2.keys()))"
      ],
      "metadata": {
        "colab": {
          "base_uri": "https://localhost:8080/"
        },
        "id": "JP7zXGq8OzZ6",
        "outputId": "0241fd13-d44e-4cdc-bd81-402959f52188"
      },
      "execution_count": null,
      "outputs": [
        {
          "output_type": "stream",
          "name": "stdout",
          "text": [
            "285\n",
            "45\n"
          ]
        }
      ]
    },
    {
      "cell_type": "code",
      "source": [
        "name=\"mini sharma - Hasan Takked\"\n",
        "new_name = name.split('-')"
      ],
      "metadata": {
        "id": "AjBQwzxuQa9B"
      },
      "execution_count": null,
      "outputs": []
    },
    {
      "cell_type": "code",
      "source": [
        "joined=(':').join(new_name)\n",
        "print(joined)"
      ],
      "metadata": {
        "colab": {
          "base_uri": "https://localhost:8080/"
        },
        "id": "tkOMtp4OfN8F",
        "outputId": "bc1d3a3b-59d3-4fbd-af53-20765771580b"
      },
      "execution_count": null,
      "outputs": [
        {
          "output_type": "stream",
          "name": "stdout",
          "text": [
            "mini sharma : Hasan Takked\n"
          ]
        }
      ]
    },
    {
      "cell_type": "code",
      "source": [],
      "metadata": {
        "id": "-7Kn1nWrkahZ"
      },
      "execution_count": null,
      "outputs": []
    }
  ]
}