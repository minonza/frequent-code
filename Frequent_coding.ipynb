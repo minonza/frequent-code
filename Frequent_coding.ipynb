{
  "nbformat": 4,
  "nbformat_minor": 0,
  "metadata": {
    "colab": {
      "name": "Frequent_coding.ipynb",
      "provenance": [],
      "collapsed_sections": [],
      "authorship_tag": "ABX9TyO7m4B/YQ0GWWI4zaUY8FuX",
      "include_colab_link": true
    },
    "kernelspec": {
      "name": "python3",
      "display_name": "Python 3"
    },
    "language_info": {
      "name": "python"
    }
  },
  "cells": [
    {
      "cell_type": "markdown",
      "metadata": {
        "id": "view-in-github",
        "colab_type": "text"
      },
      "source": [
        "<a href=\"https://colab.research.google.com/github/minonza/frequent-code/blob/main/Frequent_coding.ipynb\" target=\"_parent\"><img src=\"https://colab.research.google.com/assets/colab-badge.svg\" alt=\"Open In Colab\"/></a>"
      ]
    },
    {
      "cell_type": "code",
      "metadata": {
        "colab": {
          "base_uri": "https://localhost:8080/"
        },
        "id": "B3BDn9IUwNtx",
        "outputId": "e48139b3-21df-4992-bedf-827b5cc56d5a"
      },
      "source": [
        "farenhiet = int(input( \" Enter the value of farenhiet temperature to convert it into celcius\"))\n",
        "c=farenhiet-32*5.0/9\n",
        "print(\" The temperature in  celcius is {})\".format(c))"
      ],
      "execution_count": null,
      "outputs": [
        {
          "output_type": "stream",
          "text": [
            " Enter the value of farenhiet temperature to convert it into celcius100\n",
            " The temperature in  celcius is 82.22222222222223)\n"
          ],
          "name": "stdout"
        }
      ]
    },
    {
      "cell_type": "code",
      "metadata": {
        "colab": {
          "base_uri": "https://localhost:8080/"
        },
        "id": "9O0yoOrZwZtT",
        "outputId": "b7d3a567-adae-4e37-bb7e-02bf3f413e5e"
      },
      "source": [
        "#swap two variable using third variable\n",
        "a=int(input(\" Enter a \"))\n",
        "b=int(input(\" Enter b \"))\n",
        "print(\" a before swapping {} \\n\".format(a))\n",
        "print(\" b before swapping {} \\n\".format(b))\n",
        "\n",
        "\n",
        "c=a\n",
        "a=b\n",
        "b=c \n",
        "print(\" a after swapping {} \\n\".format(a))\n",
        "print(\" b after swapping {} \\n\".format(b))\n",
        "\n",
        "\n"
      ],
      "execution_count": null,
      "outputs": [
        {
          "output_type": "stream",
          "text": [
            " Enter a 18\n",
            " Enter b 14\n",
            " a before swapping 18 \n",
            "\n",
            " b before swapping 14 \n",
            "\n",
            " a after swapping 14 \n",
            "\n",
            " b after swapping 18 \n",
            "\n"
          ],
          "name": "stdout"
        }
      ]
    },
    {
      "cell_type": "code",
      "metadata": {
        "colab": {
          "base_uri": "https://localhost:8080/"
        },
        "id": "dq4i3puLyxpY",
        "outputId": "d19ea44f-f6a4-496a-efd2-7a1623c2afa2"
      },
      "source": [
        "#swapping without using third variable\n",
        "a=int(input(\" Enter a \"))\n",
        "b=int(input(\" Enter b \"))\n",
        "print(\" a before swapping {} \\n\".format(a))\n",
        "print(\" b before swapping {} \\n\".format(b))\n",
        "\n",
        "a=a+b\n",
        "b=a-b\n",
        "a=a-b\n",
        "\n",
        "print(\" a after swapping {} \\n\".format(a))\n",
        "print(\" b after swapping {} \\n\".format(b))\n",
        "\n"
      ],
      "execution_count": null,
      "outputs": [
        {
          "output_type": "stream",
          "text": [
            " Enter a 78\n",
            " Enter b 675\n",
            " a before swapping 78 \n",
            "\n",
            " b before swapping 675 \n",
            "\n",
            " a after swapping 675 \n",
            "\n",
            " b after swapping 78 \n",
            "\n"
          ],
          "name": "stdout"
        }
      ]
    },
    {
      "cell_type": "code",
      "metadata": {
        "colab": {
          "base_uri": "https://localhost:8080/"
        },
        "id": "NAp_3KSuzT7g",
        "outputId": "21e9a8e0-d5a8-46f4-e8ef-afdc1f398e07"
      },
      "source": [
        "#calculate area of triangle\n",
        "import math\n",
        "a=int(input(\" Enter a \"))\n",
        "b=int(input(\" Enter b \"))\n",
        "c=int(input(\" Enter c \"))\n",
        "s=a+b+c\n",
        "area = s*(s-a)*(s-b)*(s-c)\n",
        "r=math.sqrt(area)\n",
        "print(r)\n",
        "\n"
      ],
      "execution_count": null,
      "outputs": [
        {
          "output_type": "stream",
          "text": [
            " Enter a 12\n",
            " Enter b 12\n",
            " Enter c 12\n",
            "705.4530459215553\n"
          ],
          "name": "stdout"
        }
      ]
    },
    {
      "cell_type": "code",
      "metadata": {
        "id": "OCNnEiW51uz9",
        "colab": {
          "base_uri": "https://localhost:8080/"
        },
        "outputId": "4c688fc3-a4cc-4980-adef-ed02797e2d59"
      },
      "source": [
        "# Python program to find the factorial of a number provided by the user.\n",
        "\n",
        "# change the value for a different result\n",
        "num = 7\n",
        "\n",
        "# To take input from the user\n",
        "#num = int(input(\"Enter a number: \"))\n",
        "\n",
        "factorial = 1\n",
        "\n",
        "# check if the number is negative, positive or zero\n",
        "if num < 0:\n",
        "   print(\"Sorry, factorial does not exist for negative numbers\")\n",
        "elif num == 0:\n",
        "   print(\"The factorial of 0 is 1\")\n",
        "else:\n",
        "   for i in range(1,num + 1):\n",
        "       factorial = factorial*i\n",
        "   print(\"The factorial of\",num,\"is\",factorial)"
      ],
      "execution_count": 5,
      "outputs": [
        {
          "output_type": "stream",
          "text": [
            "The factorial of 7 is 5040\n"
          ],
          "name": "stdout"
        }
      ]
    },
    {
      "cell_type": "code",
      "metadata": {
        "colab": {
          "base_uri": "https://localhost:8080/"
        },
        "id": "3k3c98B2TtHP",
        "outputId": "36920550-1154-42d3-b651-ee2e1b5efb7f"
      },
      "source": [
        "2**3"
      ],
      "execution_count": 6,
      "outputs": [
        {
          "output_type": "execute_result",
          "data": {
            "text/plain": [
              "8"
            ]
          },
          "metadata": {},
          "execution_count": 6
        }
      ]
    },
    {
      "cell_type": "code",
      "metadata": {
        "colab": {
          "base_uri": "https://localhost:8080/"
        },
        "id": "9s4Ty_ptU6wS",
        "outputId": "2c99a936-19a9-4bb2-d324-098e82e55b5b"
      },
      "source": [
        "# Taking the input from User \n",
        "number = int(input(\"Enter The Number\"))\n",
        "\n",
        "if number > 1:\n",
        "    for i in range(2,int(number/2)+1):\n",
        "        if (number % i == 0):\n",
        "            print(number, \"is not a Prime Number\")\n",
        "            break\n",
        "    else:\n",
        "        print(number,\"is a Prime number\")\n",
        "# If the number is less than 1 it can't be Prime    \n",
        "else:\n",
        "  print(\"number cant be prime\")"
      ],
      "execution_count": 14,
      "outputs": [
        {
          "output_type": "stream",
          "text": [
            "Enter The Number5\n",
            "5 is a Prime number\n"
          ],
          "name": "stdout"
        }
      ]
    },
    {
      "cell_type": "code",
      "metadata": {
        "id": "BKU1WiNtWLP9"
      },
      "source": [
        ""
      ],
      "execution_count": 11,
      "outputs": []
    }
  ]
}