{
  "nbformat": 4,
  "nbformat_minor": 0,
  "metadata": {
    "colab": {
      "name": "Frequent_coding.ipynb",
      "provenance": [],
      "collapsed_sections": [],
      "authorship_tag": "ABX9TyOVOVeo64D9RQpNT+zVAEcP",
      "include_colab_link": true
    },
    "kernelspec": {
      "name": "python3",
      "display_name": "Python 3"
    },
    "language_info": {
      "name": "python"
    }
  },
  "cells": [
    {
      "cell_type": "markdown",
      "metadata": {
        "id": "view-in-github",
        "colab_type": "text"
      },
      "source": [
        "<a href=\"https://colab.research.google.com/github/minonza/frequent-code/blob/main/Frequent_coding.ipynb\" target=\"_parent\"><img src=\"https://colab.research.google.com/assets/colab-badge.svg\" alt=\"Open In Colab\"/></a>"
      ]
    },
    {
      "cell_type": "code",
      "metadata": {
        "colab": {
          "base_uri": "https://localhost:8080/"
        },
        "id": "B3BDn9IUwNtx",
        "outputId": "e48139b3-21df-4992-bedf-827b5cc56d5a"
      },
      "source": [
        "farenhiet = int(input( \" Enter the value of farenhiet temperature to convert it into celcius\"))\n",
        "c=farenhiet-32*5.0/9\n",
        "print(\" The temperature in  celcius is {})\".format(c))"
      ],
      "execution_count": 3,
      "outputs": [
        {
          "output_type": "stream",
          "text": [
            " Enter the value of farenhiet temperature to convert it into celcius100\n",
            " The temperature in  celcius is 82.22222222222223)\n"
          ],
          "name": "stdout"
        }
      ]
    },
    {
      "cell_type": "code",
      "metadata": {
        "colab": {
          "base_uri": "https://localhost:8080/"
        },
        "id": "9O0yoOrZwZtT",
        "outputId": "b7d3a567-adae-4e37-bb7e-02bf3f413e5e"
      },
      "source": [
        "#swap two variable using third variable\n",
        "a=int(input(\" Enter a \"))\n",
        "b=int(input(\" Enter b \"))\n",
        "print(\" a before swapping {} \\n\".format(a))\n",
        "print(\" b before swapping {} \\n\".format(b))\n",
        "\n",
        "\n",
        "c=a\n",
        "a=b\n",
        "b=c \n",
        "print(\" a after swapping {} \\n\".format(a))\n",
        "print(\" b after swapping {} \\n\".format(b))\n",
        "\n",
        "\n"
      ],
      "execution_count": 4,
      "outputs": [
        {
          "output_type": "stream",
          "text": [
            " Enter a 18\n",
            " Enter b 14\n",
            " a before swapping 18 \n",
            "\n",
            " b before swapping 14 \n",
            "\n",
            " a after swapping 14 \n",
            "\n",
            " b after swapping 18 \n",
            "\n"
          ],
          "name": "stdout"
        }
      ]
    },
    {
      "cell_type": "code",
      "metadata": {
        "colab": {
          "base_uri": "https://localhost:8080/"
        },
        "id": "dq4i3puLyxpY",
        "outputId": "d19ea44f-f6a4-496a-efd2-7a1623c2afa2"
      },
      "source": [
        "#swapping without using third variable\n",
        "a=int(input(\" Enter a \"))\n",
        "b=int(input(\" Enter b \"))\n",
        "print(\" a before swapping {} \\n\".format(a))\n",
        "print(\" b before swapping {} \\n\".format(b))\n",
        "\n",
        "a=a+b\n",
        "b=a-b\n",
        "a=a-b\n",
        "\n",
        "print(\" a after swapping {} \\n\".format(a))\n",
        "print(\" b after swapping {} \\n\".format(b))\n",
        "\n"
      ],
      "execution_count": 5,
      "outputs": [
        {
          "output_type": "stream",
          "text": [
            " Enter a 78\n",
            " Enter b 675\n",
            " a before swapping 78 \n",
            "\n",
            " b before swapping 675 \n",
            "\n",
            " a after swapping 675 \n",
            "\n",
            " b after swapping 78 \n",
            "\n"
          ],
          "name": "stdout"
        }
      ]
    },
    {
      "cell_type": "code",
      "metadata": {
        "colab": {
          "base_uri": "https://localhost:8080/"
        },
        "id": "NAp_3KSuzT7g",
        "outputId": "21e9a8e0-d5a8-46f4-e8ef-afdc1f398e07"
      },
      "source": [
        "#calculate area of triangle\n",
        "import math\n",
        "a=int(input(\" Enter a \"))\n",
        "b=int(input(\" Enter b \"))\n",
        "c=int(input(\" Enter c \"))\n",
        "s=a+b+c\n",
        "area = s*(s-a)*(s-b)*(s-c)\n",
        "r=math.sqrt(area)\n",
        "print(r)\n",
        "\n"
      ],
      "execution_count": 8,
      "outputs": [
        {
          "output_type": "stream",
          "text": [
            " Enter a 12\n",
            " Enter b 12\n",
            " Enter c 12\n",
            "705.4530459215553\n"
          ],
          "name": "stdout"
        }
      ]
    },
    {
      "cell_type": "code",
      "metadata": {
        "id": "OCNnEiW51uz9"
      },
      "source": [
        ""
      ],
      "execution_count": null,
      "outputs": []
    }
  ]
}